{
 "cells": [
  {
   "cell_type": "code",
   "execution_count": 1,
   "metadata": {},
   "outputs": [],
   "source": [
    "import pandas as pd\n",
    "import numpy as np\n",
    "import matplotlib.pyplot as plt"
   ]
  },
  {
   "cell_type": "code",
   "execution_count": 59,
   "metadata": {},
   "outputs": [],
   "source": [
    "df = pd.read_csv('stores_geo.csv', index_col = 0)"
   ]
  },
  {
   "cell_type": "code",
   "execution_count": 60,
   "metadata": {},
   "outputs": [
    {
     "data": {
      "text/plain": [
       "(2114, 6)"
      ]
     },
     "execution_count": 60,
     "metadata": {},
     "output_type": "execute_result"
    }
   ],
   "source": [
    "df.shape"
   ]
  },
  {
   "cell_type": "code",
   "execution_count": 31,
   "metadata": {},
   "outputs": [],
   "source": [
    "df.dropna(inplace= True)"
   ]
  },
  {
   "cell_type": "code",
   "execution_count": 22,
   "metadata": {},
   "outputs": [],
   "source": [
    "from sklearn.cluster import KMeans\n",
    "from sklearn.metrics import silhouette_score"
   ]
  },
  {
   "cell_type": "code",
   "execution_count": 13,
   "metadata": {},
   "outputs": [],
   "source": [
    "work_df = pd.DataFrame()\n",
    "work_df['long'] = df['longitude']\n",
    "work_df['lat'] = df['latitude']"
   ]
  },
  {
   "cell_type": "code",
   "execution_count": 18,
   "metadata": {
    "scrolled": true
   },
   "outputs": [],
   "source": [
    "work_df.dropna(inplace = True)"
   ]
  },
  {
   "cell_type": "code",
   "execution_count": 23,
   "metadata": {},
   "outputs": [],
   "source": [
    "factors = np.arange(2, 21)\n",
    "\n",
    "sil = []\n",
    "\n",
    "for i in factors:\n",
    "    km = KMeans(n_clusters = i).fit(work_df)\n",
    "    sil.append(silhouette_score(work_df, km.labels_))"
   ]
  },
  {
   "cell_type": "code",
   "execution_count": 24,
   "metadata": {},
   "outputs": [
    {
     "data": {
      "image/png": "[encoded data removed]",
      "text/plain": [
       "<Figure size 720x432 with 1 Axes>"
      ]
     },
     "metadata": {
      "needs_background": "light"
     },
     "output_type": "display_data"
    }
   ],
   "source": [
    "# Sihouette\n",
    "plt.figure(figsize=(10,6))\n",
    "plt.plot(factors, sil, marker = 'x')\n",
    "plt.xticks(factors)\n",
    "plt.show()"
   ]
  },
  {
   "cell_type": "code",
   "execution_count": 25,
   "metadata": {},
   "outputs": [
    {
     "data": {
      "image/png": "[encoded data removed]",
      "text/plain": [
       "<Figure size 432x288 with 1 Axes>"
      ]
     },
     "metadata": {
      "needs_background": "light"
     },
     "output_type": "display_data"
    }
   ],
   "source": [
    "k_range = np.arange(1,20)\n",
    "\n",
    "inertia_list = []\n",
    "\n",
    "for k in k_range :\n",
    "    \n",
    "    #Specify the model\n",
    "    k_means_model = KMeans(n_clusters = k)\n",
    "    k_means_model.fit(work_df)\n",
    "    \n",
    "    inertia_list.append(k_means_model.inertia_)\n",
    "    \n",
    "plt.figure()\n",
    "plt.scatter(k_range,inertia_list)\n",
    "plt.xlabel('Number of Clusters')\n",
    "plt.ylabel('Inertia')\n",
    "plt.show();"
   ]
  },
  {
   "cell_type": "code",
   "execution_count": 75,
   "metadata": {},
   "outputs": [],
   "source": [
    "km = KMeans(n_clusters = 20, random_state=1).fit(work_df)"
   ]
  },
  {
   "cell_type": "code",
   "execution_count": 76,
   "metadata": {},
   "outputs": [],
   "source": [
    "df['cluster'] = km.labels_"
   ]
  },
  {
   "cell_type": "code",
   "execution_count": 19,
   "metadata": {},
   "outputs": [
    {
     "data": {
      "text/plain": [
       "KMeans(algorithm='auto', copy_x=True, init='k-means++', max_iter=300,\n",
       "       n_clusters=4, n_init=10, n_jobs=None, precompute_distances='auto',\n",
       "       random_state=None, tol=0.0001, verbose=0)"
      ]
     },
     "execution_count": 19,
     "metadata": {},
     "output_type": "execute_result"
    }
   ],
   "source": [
    "#Specify the model\n",
    "km = KMeans(n_clusters = 4)\n",
    "#Fit the model to the data\n",
    "km.fit(work_df)"
   ]
  },
  {
   "cell_type": "code",
   "execution_count": 20,
   "metadata": {},
   "outputs": [
    {
     "data": {
      "text/plain": [
       "array([1, 1, 2, ..., 0, 0, 0])"
      ]
     },
     "execution_count": 20,
     "metadata": {},
     "output_type": "execute_result"
    }
   ],
   "source": [
    "km.labels_"
   ]
  },
  {
   "cell_type": "code",
   "execution_count": 28,
   "metadata": {},
   "outputs": [
    {
     "data": {
      "text/html": [
       "<div>\n",
       "<style scoped>\n",
       "    .dataframe tbody tr th:only-of-type {\n",
       "        vertical-align: middle;\n",
       "    }\n",
       "\n",
       "    .dataframe tbody tr th {\n",
       "        vertical-align: top;\n",
       "    }\n",
       "\n",
       "    .dataframe thead th {\n",
       "        text-align: right;\n",
       "    }\n",
       "</style>\n",
       "<table border=\"1\" class=\"dataframe\">\n",
       "  <thead>\n",
       "    <tr style=\"text-align: right;\">\n",
       "      <th></th>\n",
       "      <th>long</th>\n",
       "      <th>lat</th>\n",
       "      <th>cluster</th>\n",
       "    </tr>\n",
       "  </thead>\n",
       "  <tbody>\n",
       "    <tr>\n",
       "      <td>0</td>\n",
       "      <td>-73.6961</td>\n",
       "      <td>45.4752</td>\n",
       "      <td>1</td>\n",
       "    </tr>\n",
       "    <tr>\n",
       "      <td>1</td>\n",
       "      <td>-73.5550</td>\n",
       "      <td>45.5057</td>\n",
       "      <td>1</td>\n",
       "    </tr>\n",
       "    <tr>\n",
       "      <td>2</td>\n",
       "      <td>-79.2686</td>\n",
       "      <td>43.8769</td>\n",
       "      <td>0</td>\n",
       "    </tr>\n",
       "    <tr>\n",
       "      <td>3</td>\n",
       "      <td>-79.3644</td>\n",
       "      <td>43.7124</td>\n",
       "      <td>0</td>\n",
       "    </tr>\n",
       "    <tr>\n",
       "      <td>4</td>\n",
       "      <td>-79.5210</td>\n",
       "      <td>43.7568</td>\n",
       "      <td>0</td>\n",
       "    </tr>\n",
       "    <tr>\n",
       "      <td>...</td>\n",
       "      <td>...</td>\n",
       "      <td>...</td>\n",
       "      <td>...</td>\n",
       "    </tr>\n",
       "    <tr>\n",
       "      <td>2110</td>\n",
       "      <td>-79.4111</td>\n",
       "      <td>43.7673</td>\n",
       "      <td>0</td>\n",
       "    </tr>\n",
       "    <tr>\n",
       "      <td>2111</td>\n",
       "      <td>-79.4111</td>\n",
       "      <td>43.7673</td>\n",
       "      <td>0</td>\n",
       "    </tr>\n",
       "    <tr>\n",
       "      <td>2112</td>\n",
       "      <td>-79.4928</td>\n",
       "      <td>43.7319</td>\n",
       "      <td>0</td>\n",
       "    </tr>\n",
       "    <tr>\n",
       "      <td>2113</td>\n",
       "      <td>-79.3853</td>\n",
       "      <td>43.6899</td>\n",
       "      <td>0</td>\n",
       "    </tr>\n",
       "    <tr>\n",
       "      <td>2114</td>\n",
       "      <td>-79.5231</td>\n",
       "      <td>43.6256</td>\n",
       "      <td>0</td>\n",
       "    </tr>\n",
       "  </tbody>\n",
       "</table>\n",
       "<p>2114 rows × 3 columns</p>\n",
       "</div>"
      ],
      "text/plain": [
       "         long      lat  cluster\n",
       "0    -73.6961  45.4752        1\n",
       "1    -73.5550  45.5057        1\n",
       "2    -79.2686  43.8769        0\n",
       "3    -79.3644  43.7124        0\n",
       "4    -79.5210  43.7568        0\n",
       "...       ...      ...      ...\n",
       "2110 -79.4111  43.7673        0\n",
       "2111 -79.4111  43.7673        0\n",
       "2112 -79.4928  43.7319        0\n",
       "2113 -79.3853  43.6899        0\n",
       "2114 -79.5231  43.6256        0\n",
       "\n",
       "[2114 rows x 3 columns]"
      ]
     },
     "execution_count": 28,
     "metadata": {},
     "output_type": "execute_result"
    }
   ],
   "source": [
    "work_df"
   ]
  },
  {
   "cell_type": "code",
   "execution_count": 33,
   "metadata": {},
   "outputs": [],
   "source": [
    "df.to_csv('stores_geo.csv')"
   ]
  },
  {
   "cell_type": "code",
   "execution_count": 34,
   "metadata": {},
   "outputs": [
    {
     "data": {
      "text/plain": [
       "0    2112\n",
       "1       2\n",
       "Name: cluster, dtype: int64"
      ]
     },
     "execution_count": 34,
     "metadata": {},
     "output_type": "execute_result"
    }
   ],
   "source": [
    "df['cluster'].value_counts()"
   ]
  },
  {
   "cell_type": "code",
   "execution_count": 54,
   "metadata": {},
   "outputs": [],
   "source": [
    "df2 = pd.read_csv('clean_sb_version1.csv')\n",
    "df2.dropna(inplace=True)"
   ]
  },
  {
   "cell_type": "code",
   "execution_count": 56,
   "metadata": {},
   "outputs": [
    {
     "data": {
      "text/plain": [
       "Unnamed: 0        0\n",
       "store_name        0\n",
       "street_address    0\n",
       "postal_code       0\n",
       "dtype: int64"
      ]
     },
     "execution_count": 56,
     "metadata": {},
     "output_type": "execute_result"
    }
   ],
   "source": [
    "df2.isna().sum()"
   ]
  },
  {
   "cell_type": "code",
   "execution_count": 82,
   "metadata": {},
   "outputs": [],
   "source": [
    "df2['lat'] = df['latitude']"
   ]
  },
  {
   "cell_type": "code",
   "execution_count": 83,
   "metadata": {},
   "outputs": [],
   "source": [
    "df2['long'] = df['longitude']"
   ]
  },
  {
   "cell_type": "code",
   "execution_count": 92,
   "metadata": {},
   "outputs": [],
   "source": [
    "df2.to_csv('clean_sb_final2.csv')"
   ]
  },
  {
   "cell_type": "code",
   "execution_count": 35,
   "metadata": {},
   "outputs": [],
   "source": [
    "from sklearn.cluster import DBSCAN"
   ]
  },
  {
   "cell_type": "code",
   "execution_count": 86,
   "metadata": {},
   "outputs": [],
   "source": [
    "coords = pd.DataFrame()\n",
    "coords['long'] = df['longitude']\n",
    "coords['lat'] = df['latitude']"
   ]
  },
  {
   "cell_type": "code",
   "execution_count": 87,
   "metadata": {},
   "outputs": [
    {
     "data": {
      "text/plain": [
       "0.954935185005012"
      ]
     },
     "execution_count": 87,
     "metadata": {},
     "output_type": "execute_result"
    }
   ],
   "source": [
    "db = DBSCAN(eps=1, min_samples=2).fit(coords)\n",
    "# factors = np.arange(2, 21)\n",
    "silhouette_score(work_df, db.labels_)"
   ]
  },
  {
   "cell_type": "code",
   "execution_count": 88,
   "metadata": {},
   "outputs": [
    {
     "data": {
      "text/plain": [
       "2114"
      ]
     },
     "execution_count": 88,
     "metadata": {},
     "output_type": "execute_result"
    }
   ],
   "source": [
    "len(db.labels_)"
   ]
  },
  {
   "cell_type": "code",
   "execution_count": 57,
   "metadata": {},
   "outputs": [],
   "source": [
    "df2.dropna(inplace=True)"
   ]
  },
  {
   "cell_type": "code",
   "execution_count": 58,
   "metadata": {},
   "outputs": [
    {
     "data": {
      "text/plain": [
       "(2115, 4)"
      ]
     },
     "execution_count": 58,
     "metadata": {},
     "output_type": "execute_result"
    }
   ],
   "source": [
    "df2.shape"
   ]
  },
  {
   "cell_type": "code",
   "execution_count": 89,
   "metadata": {
    "scrolled": true
   },
   "outputs": [],
   "source": [
    "df2['cluster'] = db.labels_"
   ]
  },
  {
   "cell_type": "code",
   "execution_count": 79,
   "metadata": {},
   "outputs": [],
   "source": [
    "df2.drop(['Unnamed: 0'], axis = 1, inplace = True)"
   ]
  },
  {
   "cell_type": "code",
   "execution_count": 93,
   "metadata": {},
   "outputs": [
    {
     "data": {
      "text/html": [
       "<div>\n",
       "<style scoped>\n",
       "    .dataframe tbody tr th:only-of-type {\n",
       "        vertical-align: middle;\n",
       "    }\n",
       "\n",
       "    .dataframe tbody tr th {\n",
       "        vertical-align: top;\n",
       "    }\n",
       "\n",
       "    .dataframe thead th {\n",
       "        text-align: right;\n",
       "    }\n",
       "</style>\n",
       "<table border=\"1\" class=\"dataframe\">\n",
       "  <thead>\n",
       "    <tr style=\"text-align: right;\">\n",
       "      <th></th>\n",
       "      <th>store_name</th>\n",
       "      <th>street_address</th>\n",
       "      <th>postal_code</th>\n",
       "      <th>cluster</th>\n",
       "      <th>lat</th>\n",
       "      <th>long</th>\n",
       "    </tr>\n",
       "  </thead>\n",
       "  <tbody>\n",
       "    <tr>\n",
       "      <td>0</td>\n",
       "      <td>Harry Rosen Inc.</td>\n",
       "      <td>218 Yonge Blvd</td>\n",
       "      <td>M5M 3H8</td>\n",
       "      <td>0</td>\n",
       "      <td>45.4752</td>\n",
       "      <td>-73.6961</td>\n",
       "    </tr>\n",
       "    <tr>\n",
       "      <td>1</td>\n",
       "      <td>Despina Kirk Assets</td>\n",
       "      <td>113 Brock Street North</td>\n",
       "      <td>L1M 4H3</td>\n",
       "      <td>0</td>\n",
       "      <td>45.5057</td>\n",
       "      <td>-73.5550</td>\n",
       "    </tr>\n",
       "    <tr>\n",
       "      <td>2</td>\n",
       "      <td>Lady Ann Superstore African Boutique</td>\n",
       "      <td>1758 Eglinton Ave West</td>\n",
       "      <td>M6E 2H6</td>\n",
       "      <td>1</td>\n",
       "      <td>43.8769</td>\n",
       "      <td>-79.2686</td>\n",
       "    </tr>\n",
       "    <tr>\n",
       "      <td>3</td>\n",
       "      <td>Precious Cuts</td>\n",
       "      <td>2900 Jane St</td>\n",
       "      <td>M3N 2J7</td>\n",
       "      <td>1</td>\n",
       "      <td>43.7124</td>\n",
       "      <td>-79.3644</td>\n",
       "    </tr>\n",
       "    <tr>\n",
       "      <td>4</td>\n",
       "      <td>Extoggery Store</td>\n",
       "      <td>10 Brentcliffe Road</td>\n",
       "      <td>M4G 3Y2</td>\n",
       "      <td>1</td>\n",
       "      <td>43.7568</td>\n",
       "      <td>-79.5210</td>\n",
       "    </tr>\n",
       "    <tr>\n",
       "      <td>...</td>\n",
       "      <td>...</td>\n",
       "      <td>...</td>\n",
       "      <td>...</td>\n",
       "      <td>...</td>\n",
       "      <td>...</td>\n",
       "      <td>...</td>\n",
       "    </tr>\n",
       "    <tr>\n",
       "      <td>2109</td>\n",
       "      <td>Garage Clothing Co The Holt Renfrew &amp;amp; Co L...</td>\n",
       "      <td>326 Sheppard Ave E</td>\n",
       "      <td>M2N 3B4</td>\n",
       "      <td>1</td>\n",
       "      <td>43.7535</td>\n",
       "      <td>-79.4472</td>\n",
       "    </tr>\n",
       "    <tr>\n",
       "      <td>2110</td>\n",
       "      <td>Bayview Village Fashion Outlet</td>\n",
       "      <td>326 Sheppard Ave E</td>\n",
       "      <td>M2N 3B4</td>\n",
       "      <td>1</td>\n",
       "      <td>43.7673</td>\n",
       "      <td>-79.4111</td>\n",
       "    </tr>\n",
       "    <tr>\n",
       "      <td>2111</td>\n",
       "      <td>Godsway Clothing Inc</td>\n",
       "      <td>2111 Jane St</td>\n",
       "      <td>M3M 1A2</td>\n",
       "      <td>1</td>\n",
       "      <td>43.7673</td>\n",
       "      <td>-79.4111</td>\n",
       "    </tr>\n",
       "    <tr>\n",
       "      <td>2112</td>\n",
       "      <td>Rococo</td>\n",
       "      <td>22</td>\n",
       "      <td>M4T 2S3</td>\n",
       "      <td>1</td>\n",
       "      <td>43.7319</td>\n",
       "      <td>-79.4928</td>\n",
       "    </tr>\n",
       "    <tr>\n",
       "      <td>2113</td>\n",
       "      <td>Fine Clothing Ltd</td>\n",
       "      <td>1470 The Queensway</td>\n",
       "      <td>M8Z 1T5</td>\n",
       "      <td>1</td>\n",
       "      <td>43.6899</td>\n",
       "      <td>-79.3853</td>\n",
       "    </tr>\n",
       "  </tbody>\n",
       "</table>\n",
       "<p>2114 rows × 6 columns</p>\n",
       "</div>"
      ],
      "text/plain": [
       "                                             store_name  \\\n",
       "0                                      Harry Rosen Inc.   \n",
       "1                                   Despina Kirk Assets   \n",
       "2                  Lady Ann Superstore African Boutique   \n",
       "3                                         Precious Cuts   \n",
       "4                                       Extoggery Store   \n",
       "...                                                 ...   \n",
       "2109  Garage Clothing Co The Holt Renfrew &amp; Co L...   \n",
       "2110                     Bayview Village Fashion Outlet   \n",
       "2111                               Godsway Clothing Inc   \n",
       "2112                                             Rococo   \n",
       "2113                                  Fine Clothing Ltd   \n",
       "\n",
       "              street_address postal_code  cluster      lat     long  \n",
       "0             218 Yonge Blvd     M5M 3H8        0  45.4752 -73.6961  \n",
       "1     113 Brock Street North     L1M 4H3        0  45.5057 -73.5550  \n",
       "2     1758 Eglinton Ave West     M6E 2H6        1  43.8769 -79.2686  \n",
       "3               2900 Jane St     M3N 2J7        1  43.7124 -79.3644  \n",
       "4        10 Brentcliffe Road     M4G 3Y2        1  43.7568 -79.5210  \n",
       "...                      ...         ...      ...      ...      ...  \n",
       "2109      326 Sheppard Ave E     M2N 3B4        1  43.7535 -79.4472  \n",
       "2110      326 Sheppard Ave E     M2N 3B4        1  43.7673 -79.4111  \n",
       "2111            2111 Jane St     M3M 1A2        1  43.7673 -79.4111  \n",
       "2112                      22     M4T 2S3        1  43.7319 -79.4928  \n",
       "2113      1470 The Queensway     M8Z 1T5        1  43.6899 -79.3853  \n",
       "\n",
       "[2114 rows x 6 columns]"
      ]
     },
     "execution_count": 93,
     "metadata": {},
     "output_type": "execute_result"
    }
   ],
   "source": [
    "df2"
   ]
  },
  {
   "cell_type": "code",
   "execution_count": 70,
   "metadata": {},
   "outputs": [
    {
     "data": {
      "text/plain": [
       "Unnamed: 0                  1605\n",
       "store_name        AOneBeauty.com\n",
       "street_address           Toronto\n",
       "postal_code              X1X 1X1\n",
       "Name: 1605, dtype: object"
      ]
     },
     "execution_count": 70,
     "metadata": {},
     "output_type": "execute_result"
    }
   ],
   "source": [
    "bdf2.loc[1605,:]"
   ]
  },
  {
   "cell_type": "code",
   "execution_count": 71,
   "metadata": {},
   "outputs": [],
   "source": [
    "df2.drop([1605], inplace = True)"
   ]
  },
  {
   "cell_type": "code",
   "execution_count": 72,
   "metadata": {},
   "outputs": [],
   "source": [
    "df2.reset_index(drop=True, inplace = True)"
   ]
  }
 ],
 "metadata": {
  "kernelspec": {
   "display_name": "Python 3",
   "language": "python",
   "name": "python3"
  },
  "language_info": {
   "codemirror_mode": {
    "name": "ipython",
    "version": 3
   },
   "file_extension": ".py",
   "mimetype": "text/x-python",
   "name": "python",
   "nbconvert_exporter": "python",
   "pygments_lexer": "ipython3",
   "version": "3.7.6"
  }
 },
 "nbformat": 4,
 "nbformat_minor": 4
}
